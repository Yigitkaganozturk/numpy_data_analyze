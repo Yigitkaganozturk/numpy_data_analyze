{
 "cells": [
  {
   "cell_type": "markdown",
   "id": "81973c41",
   "metadata": {},
   "source": [
    " # CS115 Lab 09 Questions\n",
    " ### Complete the following questions in the code cells provided below."
   ]
  },
  {
   "cell_type": "markdown",
   "id": "441775d6",
   "metadata": {},
   "source": [
    "\n"
   ]
  },
  {
   "cell_type": "markdown",
   "id": "99f05754",
   "metadata": {},
   "source": [
    "- Import numpy for use in your program."
   ]
  },
  {
   "cell_type": "code",
   "execution_count": 2,
   "id": "a87e39d4",
   "metadata": {},
   "outputs": [],
   "source": [
    "import numpy as np"
   ]
  },
  {
   "cell_type": "markdown",
   "id": "3a4b51c8",
   "metadata": {},
   "source": [
    "- Load the data from the file global_life_2000.csv into a numpy array, data_2000. This file contains life expectancy data for a set of countries from 1981 - 2000. \n",
    "\n",
    "- Load the data from the file global_life_2020.csv into a numpy array, data_2020. This file contains life expectancy data for a set of countries from 2001 - 2020. \n",
    "\n",
    "- Load the data from the file country_data.csv into a numpy array, country. "
   ]
  },
  {
   "cell_type": "code",
   "execution_count": 3,
   "id": "6f6400c3",
   "metadata": {},
   "outputs": [],
   "source": [
    "data_2000=np.loadtxt(\"global_life_2000.csv\",skiprows=1,delimiter=',')\n",
    "data_2020=np.loadtxt(\"global_life_2020.csv\",skiprows=1,delimiter=',')\n",
    "country=np.loadtxt(\"country_data.csv\",skiprows=1,dtype='str',delimiter=',')\n"
   ]
  },
  {
   "cell_type": "markdown",
   "id": "c71f4198",
   "metadata": {},
   "source": [
    "- Join the arrays, data_2000 and data_2020 into a single array, life_data"
   ]
  },
  {
   "cell_type": "code",
   "execution_count": 4,
   "id": "7a31aad7",
   "metadata": {},
   "outputs": [],
   "source": [
    "life_data=np.concatenate([data_2000,data_2020],axis=1)"
   ]
  },
  {
   "cell_type": "markdown",
   "id": "d6f5a366",
   "metadata": {},
   "source": [
    "- Calculate the average life expectancies for each country from 1981 - 2020 and store as avg_2020"
   ]
  },
  {
   "cell_type": "code",
   "execution_count": 6,
   "id": "3062d17b",
   "metadata": {},
   "outputs": [
    {
     "name": "stdout",
     "output_type": "stream",
     "text": [
      "The average life expectancies for each country from 1981 - 2020:\n",
      "[74.239225   55.69495    50.202325   74.31565    74.139725   73.526875\n",
      " 71.47755    73.67695    79.30469512 77.98518293 67.905875   52.290025\n",
      " 77.9924878  55.9862     53.109625   64.37535    72.47161585 74.25175\n",
      " 71.33535    73.906425   70.550825   71.186575   62.231275   70.056475\n",
      " 76.651525   72.51865    60.659075   58.843      79.18865854 79.9740122\n",
      " 76.0785     71.915925   52.7359     53.8814     52.609075   56.7498\n",
      " 72.777      59.162125   68.08085    77.231375   76.59415    78.077275\n",
      " 74.84453659 77.67725915 58.805425   77.21435976 69.337575   70.534925\n",
      " 72.028725   67.4577     56.167525   79.48671951 72.20783537 54.168225\n",
      " 77.80501829 65.937375   79.04804878 65.03965    60.675675   78.00789634\n",
      " 70.905425   58.4359     52.747275   55.83725    51.053925   52.606575\n",
      " 78.39108781 71.39375    67.133475   75.074175   65.8009     80.48310976\n",
      " 69.891025   74.0605     57.565275   72.01060976 65.80605    62.481\n",
      " 77.55576037 68.318875   67.1608     80.06278659 79.46264024 73.587725\n",
      " 71.5346     80.92541463 67.87496341 58.106425   67.9563939  58.9212\n",
      " 62.87655    75.86847561 73.19675    59.0175     74.3025     53.43935\n",
      " 70.217425   73.01665    72.4104     52.13425    72.00008537 77.89392012\n",
      " 71.05996341 80.071025   69.121025   68.23715    57.99465    68.909625\n",
      " 72.96765    72.88764695 50.027575   78.52172378 60.36785    74.5541189\n",
      " 63.637625   49.884025   60.94475    71.35819939 50.563975   72.692375\n",
      " 57.849125   73.56562073 50.7544     48.44565    68.42835    78.72840244\n",
      " 79.07422561 61.188475   78.16136585 71.3528     62.7545     74.96055\n",
      " 70.353425   68.242575   59.357      73.88189024 76.57040244 68.6345\n",
      " 76.81073171 70.720575   72.24505    77.395625   71.59073171 68.11008537\n",
      " 51.519825   71.44635    59.266575   59.84305    78.32335366 67.756175\n",
      " 43.91865    67.4577     50.541475   49.2174     63.202275   68.723\n",
      " 73.54259146 76.10125    79.63498171 53.74335    71.3667     48.93955\n",
      " 56.079125   71.70685    63.5871     64.567375   57.52755    69.47935\n",
      " 69.97815    71.967125   69.5944     54.575075   51.6304     69.3452378\n",
      " 74.6796     76.70280488 68.0157     70.95575    71.6399     76.33315305\n",
      " 72.62035    66.8468     68.97965    60.709825   59.700375   51.95585\n",
      " 53.6279    ]\n"
     ]
    }
   ],
   "source": [
    "print('The average life expectancies for each country from 1981 - 2020:')\n",
    "avg_2020 = np.mean(life_data, axis=1)\n",
    "print(avg_2020)\n"
   ]
  },
  {
   "cell_type": "markdown",
   "id": "c4b1aa4f",
   "metadata": {},
   "source": [
    "- Display the name of the country with the maximum average life expectancy."
   ]
  },
  {
   "cell_type": "code",
   "execution_count": 7,
   "id": "d5619b49",
   "metadata": {},
   "outputs": [
    {
     "name": "stdout",
     "output_type": "stream",
     "text": [
      "The name of the country with the maximum average life expectancy:\n",
      "Japan\n"
     ]
    }
   ],
   "source": [
    "print('The name of the country with the maximum average life expectancy:')\n",
    "print(country[np.argmax(avg_2020)][0]) "
   ]
  },
  {
   "cell_type": "markdown",
   "id": "93cc84d5",
   "metadata": {},
   "source": [
    "- Calculate the average life expectancy for each year and store as avg_years"
   ]
  },
  {
   "cell_type": "code",
   "execution_count": 8,
   "id": "4533fce1",
   "metadata": {},
   "outputs": [
    {
     "name": "stdout",
     "output_type": "stream",
     "text": [
      "The average life expectancy for each year:\n",
      "[62.11691561 62.50999244 62.85841463 63.22510982 63.54976784 63.89626503\n",
      " 64.17105139 64.40058197 64.61080618 64.77834055 64.92969506 65.07389631\n",
      " 65.16779849 65.31441385 65.46819799 65.71803495 65.94465241 66.17626829\n",
      " 66.40767458 66.68798031 66.9808787  67.24145402 67.53046289 67.89927807\n",
      " 68.21026829 68.57672936 68.92700587 69.31727416 69.71740511 70.0997424\n",
      " 70.49601148 70.83260676 71.18564315 71.52185131 71.7612739  72.045012\n",
      " 72.28662762 72.51049707 72.74666141 72.77187687]\n"
     ]
    }
   ],
   "source": [
    "avg_years=np.mean(life_data.T,axis=1)\n",
    "print('The average life expectancy for each year:')\n",
    "print(avg_years)"
   ]
  },
  {
   "cell_type": "markdown",
   "id": "c17a367d",
   "metadata": {},
   "source": [
    "- Find and display the year with the lowest average life expectancy"
   ]
  },
  {
   "cell_type": "code",
   "execution_count": 9,
   "id": "f8b228ba",
   "metadata": {},
   "outputs": [
    {
     "name": "stdout",
     "output_type": "stream",
     "text": [
      "The year with the lowest average life expectancy\n",
      "1981\n"
     ]
    }
   ],
   "source": [
    "print('The year with the lowest average life expectancy')\n",
    "print(np.argmin(avg_years)+1981)"
   ]
  },
  {
   "cell_type": "markdown",
   "id": "01c02588",
   "metadata": {},
   "source": [
    "- Display the maximum life expectancy for Mexico (note: a country's position in the file may change, do not use constant value for row index)"
   ]
  },
  {
   "cell_type": "code",
   "execution_count": 10,
   "id": "83bc9008",
   "metadata": {},
   "outputs": [
    {
     "name": "stdout",
     "output_type": "stream",
     "text": [
      "The maximum life expectancy for Mexico:\n",
      "75.3\n"
     ]
    }
   ],
   "source": [
    "ind=np.where(country=='Mexico')[0][0]\n",
    "print('The maximum life expectancy for Mexico:')\n",
    "print(life_data[ind][np.argmax(life_data[ind])])"
   ]
  },
  {
   "cell_type": "markdown",
   "id": "ae52b26f",
   "metadata": {},
   "source": [
    "- Display the codes of the countries with 2020 life expectancy below the overall average life expectancy."
   ]
  },
  {
   "cell_type": "code",
   "execution_count": 15,
   "id": "e25f62df",
   "metadata": {},
   "outputs": [
    {
     "name": "stdout",
     "output_type": "stream",
     "text": [
      "The codes of the countries with 2020 life expectancy below the overall average life expectancy:\n",
      "['AFG' 'AGO' 'BDI' 'BEN' 'BFA' 'BOL' 'BTN' 'BWA' 'CIV' 'CMR' 'COD' 'COG'\n",
      " 'COM' 'DJI' 'EGY' 'ERI' 'ETH' 'FJI' 'FSM' 'GAB' 'GHA' 'GIN' 'GMB' 'GNB'\n",
      " 'GNQ' 'GRD' 'GUY' 'HTI' 'IDN' 'IND' 'IRQ' 'KAZ' 'KEN' 'KGZ' 'KHM' 'KIR'\n",
      " 'LAO' 'LBR' 'LSO' 'MDA' 'MDG' 'MLI' 'MMR' 'MNG' 'MOZ' 'MRT' 'MWI' 'NAM'\n",
      " 'NER' 'NGA' 'NPL' 'PAK' 'PHL' 'PNG' 'PRK' 'RUS' 'RWA' 'SDN' 'SEN' 'SLE'\n",
      " 'SOM' 'SSD' 'STP' 'SUR' 'SWZ' 'TCD' 'TGO' 'TJK' 'TKM' 'TLS' 'TON' 'TZA'\n",
      " 'UGA' 'UKR' 'UZB' 'VCT' 'VEN' 'VUT' 'YEM' 'ZAF' 'ZMB' 'ZWE']\n",
      "72.77187687497324\n"
     ]
    }
   ],
   "source": [
    "ovavg=avg_years[-1]\n",
    "\n",
    "inds=np.where(life_data[:,-1]<ovavg)\n",
    "\n",
    "belowes=country[inds[0]][:,-1]\n",
    "print('The codes of the countries with 2020 life expectancy below the overall average life expectancy:')\n",
    "print(belowes)\n",
    "print(ovavg)"
   ]
  },
  {
   "cell_type": "markdown",
   "id": "4eb1cc95",
   "metadata": {},
   "source": [
    "- Find the life expectancies of the countries whose 2020 life expectancy is below the overall average (calculated in previous step)"
   ]
  },
  {
   "cell_type": "code",
   "execution_count": 13,
   "id": "7457d25b",
   "metadata": {},
   "outputs": [
    {
     "name": "stdout",
     "output_type": "stream",
     "text": [
      "The life expectancies of the countries whose 2020 life expectancy is below the overall average:\n",
      "[55.69495    50.202325   52.290025   55.9862     53.109625   62.231275\n",
      " 60.659075   58.843      52.7359     53.8814     52.609075   56.7498\n",
      " 59.162125   58.805425   67.4577     56.167525   54.168225   65.937375\n",
      " 65.03965    60.675675   58.4359     52.747275   55.83725    51.053925\n",
      " 52.606575   71.39375    65.8009     57.565275   65.80605    62.481\n",
      " 67.1608     67.87496341 58.106425   67.9563939  58.9212     62.87655\n",
      " 59.0175     53.43935    52.13425    68.23715    57.99465    50.027575\n",
      " 60.36785    63.637625   49.884025   60.94475    50.563975   57.849125\n",
      " 50.7544     48.44565    61.188475   62.7545     68.242575   59.357\n",
      " 68.6345     68.11008537 51.519825   59.266575   59.84305    43.91865\n",
      " 50.541475   49.2174     63.202275   68.723      53.74335    48.93955\n",
      " 56.079125   63.5871     64.567375   57.52755    69.47935    54.575075\n",
      " 51.6304     69.3452378  68.0157     70.95575    71.6399     66.8468\n",
      " 60.709825   59.700375   51.95585    53.6279    ]\n"
     ]
    }
   ],
   "source": [
    "expt=[]\n",
    "expt=avg_2020[inds]\n",
    "print('The life expectancies of the countries whose 2020 life expectancy is below the overall average:')\n",
    "print(expt)"
   ]
  },
  {
   "cell_type": "markdown",
   "id": "ca1da32e",
   "metadata": {},
   "source": [
    "- Write the codes of the 2020 below average countries and their life expectancies to a file, 2020_below_avg.txt.  The first column should be the country codes and the second column should be the expectancies."
   ]
  },
  {
   "cell_type": "code",
   "execution_count": 14,
   "id": "c71ae069",
   "metadata": {
    "scrolled": true
   },
   "outputs": [],
   "source": [
    "final=np.hstack([belowes.reshape(len(belowes),1),expt.reshape(len(belowes),1)])\n",
    "#print(final)\n",
    "np.savetxt('2020_below_avg.txt', final,fmt='%s')"
   ]
  }
 ],
 "metadata": {
  "kernelspec": {
   "display_name": "Python 3 (ipykernel)",
   "language": "python",
   "name": "python3"
  },
  "language_info": {
   "codemirror_mode": {
    "name": "ipython",
    "version": 3
   },
   "file_extension": ".py",
   "mimetype": "text/x-python",
   "name": "python",
   "nbconvert_exporter": "python",
   "pygments_lexer": "ipython3",
   "version": "3.8.8"
  }
 },
 "nbformat": 4,
 "nbformat_minor": 5
}
